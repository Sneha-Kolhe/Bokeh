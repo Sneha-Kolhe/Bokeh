{
 "cells": [
  {
   "cell_type": "markdown",
   "id": "5fd4eb40-c204-44d0-bb5a-fa6634aa7850",
   "metadata": {},
   "source": [
    "## Q1. How can you create a Bokeh plot using Python code?"
   ]
  },
  {
   "cell_type": "code",
   "execution_count": null,
   "id": "e4c93d8f-36e8-4256-8cd6-bf01f2ccbf20",
   "metadata": {},
   "outputs": [],
   "source": [
    "To create a Bokeh plot using Python code, you need to follow these steps:\n",
    "\n",
    "Import the necessary modules from the Bokeh library.\n",
    "Prepare your data.\n",
    "Create a figure object.\n",
    "Add glyphs (such as lines, circles, or bars) to the figure to represent your data.\n",
    "Customize the plot by adding titles, labels, legends, etc.\n",
    "Show or save the plot.\n",
    "Here's a simple example of creating a line plot using Bokeh:\n",
    "\n",
    "from bokeh.plotting import figure, output_file, show\n",
    "\n",
    "# Prepare data\n",
    "x = [1, 2, 3, 4, 5]\n",
    "y = [6, 7, 2, 4, 5]\n",
    "\n",
    "# Specify the output file (optional)\n",
    "output_file(\"line_plot.html\")\n",
    "\n",
    "# Create a figure object\n",
    "p = figure(title=\"Simple Line Plot\", x_axis_label='x', y_axis_label='y')\n",
    "\n",
    "# Add a line glyph to the figure\n",
    "p.line(x, y, legend_label=\"Line\", line_width=2)\n",
    "\n",
    "# Customize the plot\n",
    "p.title.text_color = \"blue\"\n",
    "p.title.text_font = \"times\"\n",
    "p.title.text_font_style = \"italic\"\n",
    "p.xaxis.axis_label_text_color = \"green\"\n",
    "p.yaxis.axis_label_text_color = \"green\"\n",
    "\n",
    "# Show the plot\n",
    "show(p)\n",
    "In this example, we import the necessary modules from Bokeh, prepare sample data, create a figure object, add a line glyph representing our data, customize the plot's appearance, and finally display the plot using show(). You can also save the plot to an HTML file using output_file() and specifying the filename. Bokeh provides extensive documentation and examples for creating various types of plots and customizing them further.\n",
    "\n",
    "\n",
    "\n",
    "\n",
    "\n",
    "\n"
   ]
  },
  {
   "cell_type": "markdown",
   "id": "a18ea62f-d605-4df3-9fe1-1faf581b405c",
   "metadata": {},
   "source": [
    "## Q2. What are glyphs in Bokeh, and how can you add them to a Bokeh plot? Explain with an example."
   ]
  },
  {
   "cell_type": "code",
   "execution_count": null,
   "id": "bda9f976-738e-4028-a049-d12a5c43c1a3",
   "metadata": {},
   "outputs": [],
   "source": [
    "from bokeh.plotting import figure, output_file, show\n",
    "\n",
    "# Sample data\n",
    "x = [1, 2, 3, 4, 5]\n",
    "y = [6, 7, 2, 4, 5]\n",
    "\n",
    "# Specify the output file (optional)\n",
    "output_file(\"glyphs_example.html\")\n",
    "\n",
    "# Create a figure object\n",
    "p = figure(title=\"Glyphs Example\", x_axis_label='x', y_axis_label='y')\n",
    "\n",
    "# Add circles glyph\n",
    "p.circle(x, y, size=10, color=\"navy\", alpha=0.5, legend_label=\"Circle\")\n",
    "\n",
    "# Add squares glyph\n",
    "p.square(x, y, size=10, color=\"firebrick\", alpha=0.5, legend_label=\"Square\")\n",
    "\n",
    "# Add a line glyph\n",
    "p.line(x, y, line_width=2, line_color=\"green\", legend_label=\"Line\")\n",
    "\n",
    "# Customize the plot\n",
    "p.legend.location = \"top_left\"\n",
    "\n",
    "# Show the plot\n",
    "show(p)\n",
    "In this example:"
   ]
  },
  {
   "cell_type": "markdown",
   "id": "40a49b19-fc1a-46cd-9caa-e9732fb9c669",
   "metadata": {},
   "source": [
    "## Q3. How can you customize the appearance of a Bokeh plot, including the axes, title, and legend?"
   ]
  },
  {
   "cell_type": "code",
   "execution_count": null,
   "id": "1a9ba671-5269-4b1c-9a86-909cd612b965",
   "metadata": {},
   "outputs": [],
   "source": [
    "\n",
    "# Specify the output file (optional)\n",
    "output_file(\"customized_plot.html\")\n",
    "\n",
    "# Create a figure object\n",
    "p = figure(title=\"Customized Plot\", x_axis_label='x', y_axis_label='y')\n",
    "\n",
    "# Add glyphs\n",
    "p.circle(x, y, size=10, color=\"navy\", alpha=0.5, legend_label=\"Circle\")\n",
    "p.line(x, y, line_width=2, line_color=\"green\", legend_label=\"Line\")\n",
    "\n",
    "# Customize the appearance\n",
    "p.title.text_color = \"blue\"  # Title color\n",
    "p.xaxis.axis_label_text_color = \"red\"  # X-axis label color\n",
    "p.yaxis.axis_label_text_font_style = \"italic\"  # Y-axis label font style\n",
    "\n",
    "p.xaxis.major_label_text_color = \"purple\"  # X-axis tick label color\n",
    "p.yaxis.major_label_text_font_size = \"14pt\"  # Y-axis tick label font size\n",
    "\n",
    "p.legend.location = \"top_left\"  # Legend location\n",
    "p.legend.label_text_color = \"orange\"  # Legend label color\n",
    "\n",
    "p.background_fill_color = \"lightyellow\"  # Plot background color\n",
    "p.outline_line_color = \"black\"  # Plot border color\n",
    "\n",
    "# Show the plot\n",
    "show(p)\n",
    "In this example:\n",
    "\n",
    "We customize the appearance of the plot title, axis labels, tick labels, legend, background color, and border color.\n",
    "We access various attributes and methods of the figure object (p) to apply these customizations.\n",
    "Finally, we display the plot using the show() function."
   ]
  }
 ],
 "metadata": {
  "kernelspec": {
   "display_name": "Python 3 (ipykernel)",
   "language": "python",
   "name": "python3"
  },
  "language_info": {
   "codemirror_mode": {
    "name": "ipython",
    "version": 3
   },
   "file_extension": ".py",
   "mimetype": "text/x-python",
   "name": "python",
   "nbconvert_exporter": "python",
   "pygments_lexer": "ipython3",
   "version": "3.10.8"
  }
 },
 "nbformat": 4,
 "nbformat_minor": 5
}
